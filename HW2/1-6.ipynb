{
 "cells": [
  {
   "cell_type": "code",
   "execution_count": 1,
   "id": "07125452-3107-4592-93a9-fc51f53cfb9f",
   "metadata": {},
   "outputs": [],
   "source": [
    "import torch\n",
    "import torch.nn as nn"
   ]
  },
  {
   "cell_type": "markdown",
   "id": "ff5c6106-79fc-4533-a6e3-654bfd08dda2",
   "metadata": {},
   "source": [
    "Problem 1: calculate the receptive field of a 3x3 conv"
   ]
  },
  {
   "cell_type": "code",
   "execution_count": 2,
   "id": "bd6b4c1e-95a1-41fd-b7f9-c7162a321ba8",
   "metadata": {},
   "outputs": [
    {
     "data": {
      "text/plain": [
       "Sequential(\n",
       "  (0): Conv2d(1, 1, kernel_size=(3, 3), stride=(1, 1))\n",
       ")"
      ]
     },
     "execution_count": 2,
     "metadata": {},
     "output_type": "execute_result"
    }
   ],
   "source": [
    "model1 = nn.Sequential(\n",
    "    nn.Conv2d(1,1,3)\n",
    ")\n",
    "model1"
   ]
  },
  {
   "cell_type": "code",
   "execution_count": 3,
   "id": "b097af36-14d9-48a1-93e3-e34b41c48290",
   "metadata": {},
   "outputs": [
    {
     "data": {
      "text/plain": [
       "torch.Size([1, 1, 1, 1])"
      ]
     },
     "execution_count": 3,
     "metadata": {},
     "output_type": "execute_result"
    }
   ],
   "source": [
    "#Pass in 3x3 image. Model squeeze to 1x1 pixel. Prove that receptive field is 3x3\n",
    "model1(torch.rand(1,1,3,3)).shape"
   ]
  },
  {
   "cell_type": "markdown",
   "id": "bd151cba-5910-4138-9eb2-0c874a4811f7",
   "metadata": {},
   "source": [
    "Problem 2: calculate the receptive field of a network consisting of two sequential 3x3 convolutional layers."
   ]
  },
  {
   "cell_type": "code",
   "execution_count": 4,
   "id": "672e3fe6-ff58-4685-a45a-4060602f559a",
   "metadata": {},
   "outputs": [
    {
     "data": {
      "text/plain": [
       "Sequential(\n",
       "  (0): Conv2d(1, 1, kernel_size=(3, 3), stride=(1, 1))\n",
       "  (1): Conv2d(1, 1, kernel_size=(3, 3), stride=(1, 1))\n",
       ")"
      ]
     },
     "execution_count": 4,
     "metadata": {},
     "output_type": "execute_result"
    }
   ],
   "source": [
    "model2 = nn.Sequential(\n",
    "    nn.Conv2d(1,1,3),\n",
    "     nn.Conv2d(1,1,3),\n",
    ")\n",
    "model2"
   ]
  },
  {
   "cell_type": "code",
   "execution_count": 5,
   "id": "e21ac742-10a6-4870-a7f3-4f06a5116d26",
   "metadata": {},
   "outputs": [
    {
     "data": {
      "text/plain": [
       "torch.Size([1, 1, 1, 1])"
      ]
     },
     "execution_count": 5,
     "metadata": {},
     "output_type": "execute_result"
    }
   ],
   "source": [
    "model2(torch.rand(1,1,5,5)).shape"
   ]
  },
  {
   "cell_type": "markdown",
   "id": "86232316-eb07-4c3c-a541-0e69fcf2446d",
   "metadata": {},
   "source": [
    "Problem 3: calculate the receptive field of a 5x5 conv"
   ]
  },
  {
   "cell_type": "code",
   "execution_count": 6,
   "id": "2d89b154-9ee4-452e-b251-c07e200e04a2",
   "metadata": {},
   "outputs": [
    {
     "data": {
      "text/plain": [
       "Sequential(\n",
       "  (0): Conv2d(1, 1, kernel_size=(5, 5), stride=(1, 1))\n",
       ")"
      ]
     },
     "execution_count": 6,
     "metadata": {},
     "output_type": "execute_result"
    }
   ],
   "source": [
    "model3 = nn.Sequential(\n",
    "    nn.Conv2d(1,1,5)\n",
    ")\n",
    "model3"
   ]
  },
  {
   "cell_type": "code",
   "execution_count": 7,
   "id": "c1f4055f-f3d0-490c-a11c-2baab00faec3",
   "metadata": {},
   "outputs": [
    {
     "data": {
      "text/plain": [
       "torch.Size([1, 1, 1, 1])"
      ]
     },
     "execution_count": 7,
     "metadata": {},
     "output_type": "execute_result"
    }
   ],
   "source": [
    "model3(torch.rand(1,1,5,5)).shape"
   ]
  },
  {
   "cell_type": "markdown",
   "id": "22744ba4-b11d-49ee-a0a4-b3a94956865f",
   "metadata": {},
   "source": [
    "Problem 4: calculate the receptive field of a network consisting of two sequential 5x5 conv layers"
   ]
  },
  {
   "cell_type": "code",
   "execution_count": 8,
   "id": "c8e0c849-8514-431d-bb46-3bf0932cf6c2",
   "metadata": {},
   "outputs": [
    {
     "data": {
      "text/plain": [
       "Sequential(\n",
       "  (0): Conv2d(1, 1, kernel_size=(5, 5), stride=(1, 1))\n",
       "  (1): Conv2d(1, 1, kernel_size=(5, 5), stride=(1, 1))\n",
       ")"
      ]
     },
     "execution_count": 8,
     "metadata": {},
     "output_type": "execute_result"
    }
   ],
   "source": [
    "model4 = nn.Sequential(\n",
    "    nn.Conv2d(1,1,5),\n",
    "    nn.Conv2d(1,1,5)\n",
    ")\n",
    "model4"
   ]
  },
  {
   "cell_type": "code",
   "execution_count": 9,
   "id": "0abfb72f-9e49-4947-956b-dec14340e4e6",
   "metadata": {},
   "outputs": [
    {
     "data": {
      "text/plain": [
       "torch.Size([1, 1, 1, 1])"
      ]
     },
     "execution_count": 9,
     "metadata": {},
     "output_type": "execute_result"
    }
   ],
   "source": [
    "model4(torch.rand(1,1,9,9)).shape"
   ]
  },
  {
   "cell_type": "markdown",
   "id": "5b01024f-b3a3-4693-8b6e-d7a7742dc799",
   "metadata": {},
   "source": [
    "Problem 5: calculate the receptive field of a network consisting of two sequential 3x3 layers, with a 4x4 max-pool in between"
   ]
  },
  {
   "cell_type": "code",
   "execution_count": 10,
   "id": "817dde2c-703e-4093-8c42-01094c579089",
   "metadata": {},
   "outputs": [
    {
     "data": {
      "text/plain": [
       "Sequential(\n",
       "  (0): Conv2d(1, 1, kernel_size=(3, 3), stride=(1, 1))\n",
       "  (1): MaxPool2d(kernel_size=4, stride=4, padding=0, dilation=1, ceil_mode=False)\n",
       "  (2): Conv2d(1, 1, kernel_size=(3, 3), stride=(1, 1))\n",
       ")"
      ]
     },
     "execution_count": 10,
     "metadata": {},
     "output_type": "execute_result"
    }
   ],
   "source": [
    "model5 = nn.Sequential(\n",
    "    nn.Conv2d(1,1,3),\n",
    "    nn.MaxPool2d(4),\n",
    "    nn.Conv2d(1,1,3)\n",
    ")\n",
    "model5"
   ]
  },
  {
   "cell_type": "code",
   "execution_count": 11,
   "id": "b2b8aff5-ca2e-4065-ab64-cc700735da24",
   "metadata": {},
   "outputs": [
    {
     "data": {
      "text/plain": [
       "torch.Size([1, 1, 1, 1])"
      ]
     },
     "execution_count": 11,
     "metadata": {},
     "output_type": "execute_result"
    }
   ],
   "source": [
    "model5(torch.rand(1,1,14,14)).shape"
   ]
  },
  {
   "cell_type": "markdown",
   "id": "f1e4f4cb-40a5-4519-a5d6-ffb6dc99e7ed",
   "metadata": {},
   "source": [
    "Problem 6: calculate the receptive field of a network consisting of four sequential 5x5 layers, with a 2x2 max-pool after each convolutional layer"
   ]
  },
  {
   "cell_type": "code",
   "execution_count": 12,
   "id": "a982efbf-1ffd-4f45-8efb-239189c170b1",
   "metadata": {},
   "outputs": [],
   "source": [
    "model6 = nn.Sequential(\n",
    "    nn.Conv2d(1,1,5),\n",
    "    nn.MaxPool2d(2),\n",
    "    nn.Conv2d(1,1,5),\n",
    "    nn.MaxPool2d(2),\n",
    "    nn.Conv2d(1,1,5),\n",
    "    nn.MaxPool2d(2),\n",
    "    nn.Conv2d(1,1,5),\n",
    "    nn.MaxPool2d(2)\n",
    ")"
   ]
  },
  {
   "cell_type": "code",
   "execution_count": 13,
   "id": "b1ad2cc2-76de-4823-ae34-c966a55cf253",
   "metadata": {},
   "outputs": [
    {
     "data": {
      "text/plain": [
       "torch.Size([1, 1, 1, 1])"
      ]
     },
     "execution_count": 13,
     "metadata": {},
     "output_type": "execute_result"
    }
   ],
   "source": [
    "model6(torch.rand(1,1,76,76)).shape"
   ]
  }
 ],
 "metadata": {
  "kernelspec": {
   "display_name": "Python 3 (ipykernel)",
   "language": "python",
   "name": "python3"
  },
  "language_info": {
   "codemirror_mode": {
    "name": "ipython",
    "version": 3
   },
   "file_extension": ".py",
   "mimetype": "text/x-python",
   "name": "python",
   "nbconvert_exporter": "python",
   "pygments_lexer": "ipython3",
   "version": "3.12.4"
  }
 },
 "nbformat": 4,
 "nbformat_minor": 5
}
