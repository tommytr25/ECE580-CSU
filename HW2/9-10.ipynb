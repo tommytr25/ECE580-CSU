{
 "cells": [
  {
   "cell_type": "markdown",
   "id": "89a68e36-4574-405c-b453-b624b0b23e47",
   "metadata": {},
   "source": [
    "Using sympy library to calculate derivative"
   ]
  },
  {
   "cell_type": "code",
   "execution_count": 1,
   "id": "b5c1efff-4e1b-49d9-a5f6-6e9a65ffe9ce",
   "metadata": {},
   "outputs": [],
   "source": [
    "import sympy as sp\n",
    "\n",
    "# Define symbolic variables\n",
    "w, x, b, y = sp.symbols('w x b y')\n",
    "\n",
    "# Define the output of the network\n",
    "output = sp.tanh(w*x + b)\n",
    "\n",
    "# Define the squared error\n",
    "squared_error = (y - output)**2"
   ]
  },
  {
   "cell_type": "markdown",
   "id": "e637239e-eb70-4cbe-b800-770135042886",
   "metadata": {},
   "source": [
    "Problem 9: Derive the partial derivative of the squared error with respect to the parameter w"
   ]
  },
  {
   "cell_type": "code",
   "execution_count": 2,
   "id": "7dfd968d-9bcd-43fe-8e9a-6041ad72cac2",
   "metadata": {},
   "outputs": [
    {
     "data": {
      "text/latex": [
       "$\\displaystyle 2 x \\left(y - \\tanh{\\left(b + w x \\right)}\\right) \\left(\\tanh^{2}{\\left(b + w x \\right)} - 1\\right)$"
      ],
      "text/plain": [
       "2*x*(y - tanh(b + w*x))*(tanh(b + w*x)**2 - 1)"
      ]
     },
     "execution_count": 2,
     "metadata": {},
     "output_type": "execute_result"
    }
   ],
   "source": [
    "# Calculate the partial derivative with respect to w\n",
    "partial_derivative_w = sp.diff(squared_error, w)\n",
    "\n",
    "# Simplify the expression\n",
    "partial_derivative_w_simplified = sp.simplify(partial_derivative_w)\n",
    "\n",
    "# Display the result\n",
    "partial_derivative_w_simplified\n"
   ]
  },
  {
   "cell_type": "markdown",
   "id": "255da6c6-c2cf-442c-9433-afecebed3d2e",
   "metadata": {},
   "source": [
    "Problem 10: Derive the partial derivative of the squared error with respect to the parameter b "
   ]
  },
  {
   "cell_type": "code",
   "execution_count": 3,
   "id": "44573140-41d6-4c11-a817-c5cfac804a69",
   "metadata": {},
   "outputs": [
    {
     "data": {
      "text/latex": [
       "$\\displaystyle 2 \\left(y - \\tanh{\\left(b + w x \\right)}\\right) \\left(\\tanh^{2}{\\left(b + w x \\right)} - 1\\right)$"
      ],
      "text/plain": [
       "2*(y - tanh(b + w*x))*(tanh(b + w*x)**2 - 1)"
      ]
     },
     "execution_count": 3,
     "metadata": {},
     "output_type": "execute_result"
    }
   ],
   "source": [
    "# Calculate the partial derivative with respect to b\n",
    "partial_derivative_b = sp.diff(squared_error, b)\n",
    "\n",
    "# Simplify the expression\n",
    "partial_derivative_b_simplified = sp.simplify(partial_derivative_b)\n",
    "\n",
    "partial_derivative_b_simplified\n"
   ]
  }
 ],
 "metadata": {
  "kernelspec": {
   "display_name": "Python 3 (ipykernel)",
   "language": "python",
   "name": "python3"
  },
  "language_info": {
   "codemirror_mode": {
    "name": "ipython",
    "version": 3
   },
   "file_extension": ".py",
   "mimetype": "text/x-python",
   "name": "python",
   "nbconvert_exporter": "python",
   "pygments_lexer": "ipython3",
   "version": "3.12.4"
  }
 },
 "nbformat": 4,
 "nbformat_minor": 5
}
