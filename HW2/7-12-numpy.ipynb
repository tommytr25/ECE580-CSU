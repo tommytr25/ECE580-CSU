{
 "cells": [
  {
   "cell_type": "markdown",
   "id": "c2b3a107-bac8-4f09-aee6-ee4ccd1be1d6",
   "metadata": {},
   "source": [
    "2.7"
   ]
  },
  {
   "cell_type": "code",
   "execution_count": 1,
   "id": "cea5e364-8056-4ff7-b992-b8e711e13d06",
   "metadata": {},
   "outputs": [],
   "source": [
    "import numpy as np"
   ]
  },
  {
   "cell_type": "code",
   "execution_count": 2,
   "id": "bd7ce2fe-f6c7-4aab-a24b-2be6cbf751f7",
   "metadata": {},
   "outputs": [],
   "source": [
    "# Inputs\n",
    "x = np.array([20, 10, 0])\n",
    "y = np.array([1.0, 0.0, -1.0])\n",
    "# Parameters\n",
    "w = 2.0  # Weight\n",
    "b = 0.0  # Bias"
   ]
  },
  {
   "cell_type": "code",
   "execution_count": 3,
   "id": "7a16534d-0085-4aae-b187-78dcc1773812",
   "metadata": {},
   "outputs": [
    {
     "data": {
      "text/plain": [
       "array([1., 1., 0.])"
      ]
     },
     "execution_count": 3,
     "metadata": {},
     "output_type": "execute_result"
    }
   ],
   "source": [
    "# Compute the linear transformation\n",
    "z = w * x + b\n",
    "\n",
    "# Apply the tanh activation function\n",
    "output = np.tanh(z)\n",
    "\n",
    "# Print the results\n",
    "output"
   ]
  },
  {
   "cell_type": "markdown",
   "id": "e8b80252-e32e-4432-9149-2b0eaa2b8161",
   "metadata": {},
   "source": [
    "2.8: Now calculate the squared error for the above network and each of the three training data points."
   ]
  },
  {
   "cell_type": "code",
   "execution_count": 4,
   "id": "8c7ebb74-f602-45c6-a572-298e9b5c14b3",
   "metadata": {},
   "outputs": [
    {
     "name": "stdout",
     "output_type": "stream",
     "text": [
      "Squared Errors: [0. 1. 1.]\n"
     ]
    }
   ],
   "source": [
    "squared_errors = (output - y) ** 2\n",
    "\n",
    "# Print the squared errors\n",
    "print(\"Squared Errors:\", squared_errors)"
   ]
  },
  {
   "cell_type": "markdown",
   "id": "c59a1739-70c2-497a-b4bd-72f32d88ee74",
   "metadata": {},
   "source": [
    "Problem 11: Calculate the gradients for each of these training data points. "
   ]
  },
  {
   "cell_type": "code",
   "execution_count": 5,
   "id": "41b3a55b-6480-4ebc-bc29-2b54c905b322",
   "metadata": {},
   "outputs": [],
   "source": [
    "def dL_dw(y, output,x):\n",
    "    # Compute the partial derivative of the squared error with respect to w\n",
    "    gradient_w = 2*x * (y - output) * (output**2 -1)\n",
    "    return gradient_w"
   ]
  },
  {
   "cell_type": "code",
   "execution_count": 6,
   "id": "b48de04c-f9c9-4b61-8cd0-8aa363563330",
   "metadata": {},
   "outputs": [
    {
     "data": {
      "text/plain": [
       "[0.0, -0.0, 0.0]"
      ]
     },
     "execution_count": 6,
     "metadata": {},
     "output_type": "execute_result"
    }
   ],
   "source": [
    "grad_w = []\n",
    "for i in range(len(output)):\n",
    "    gradient_w = dL_dw(y[i],output[i],x[i])\n",
    "    grad_w.append(gradient_w)\n",
    "grad_w"
   ]
  },
  {
   "cell_type": "code",
   "execution_count": 7,
   "id": "81bc7441-77cf-400a-8200-33a47cb84383",
   "metadata": {},
   "outputs": [],
   "source": [
    "def dL_db(y, output):\n",
    "    # Compute the partial derivative of the squared error with respect to w\n",
    "    gradient_w = 2 * (y - output) * (output**2 -1)\n",
    "    return gradient_w"
   ]
  },
  {
   "cell_type": "code",
   "execution_count": 8,
   "id": "1858a9f3-c087-4798-b145-f95529d5b947",
   "metadata": {},
   "outputs": [
    {
     "data": {
      "text/plain": [
       "[0.0, -0.0, 2.0]"
      ]
     },
     "execution_count": 8,
     "metadata": {},
     "output_type": "execute_result"
    }
   ],
   "source": [
    "grad_b = []\n",
    "for i in range(len(output)):\n",
    "    gradient_b = dL_db(y[i],output[i])\n",
    "    grad_b.append(gradient_b)\n",
    "grad_b"
   ]
  },
  {
   "cell_type": "markdown",
   "id": "ec6549b7-bd1c-4825-9379-194a0eeb6cbe",
   "metadata": {},
   "source": [
    "Problem 12: Sum up the gradients for all 3 data points. Given a learning rate (step size) of 0.1, calculate the new parameters w and b."
   ]
  },
  {
   "cell_type": "code",
   "execution_count": 9,
   "id": "43ccd080-a351-49dc-9b35-9b609d8f9ccd",
   "metadata": {},
   "outputs": [
    {
     "data": {
      "text/plain": [
       "0.0"
      ]
     },
     "execution_count": 9,
     "metadata": {},
     "output_type": "execute_result"
    }
   ],
   "source": [
    "sum_grad_w = sum(grad_w)\n",
    "sum_grad_w"
   ]
  },
  {
   "cell_type": "code",
   "execution_count": 10,
   "id": "666e8ed3-0a61-4630-ac1f-7e59d1e32eca",
   "metadata": {},
   "outputs": [
    {
     "data": {
      "text/plain": [
       "2.0"
      ]
     },
     "execution_count": 10,
     "metadata": {},
     "output_type": "execute_result"
    }
   ],
   "source": [
    "sum_grad_b = sum(grad_b)\n",
    "sum_grad_b"
   ]
  },
  {
   "cell_type": "code",
   "execution_count": 11,
   "id": "a0806d1f-d5c6-4963-9a34-902f5919abc7",
   "metadata": {},
   "outputs": [],
   "source": [
    "lr = 0.1\n",
    "new_w = w - lr*sum_grad_w \n",
    "new_b = b - lr*sum_grad_b"
   ]
  },
  {
   "cell_type": "code",
   "execution_count": 12,
   "id": "b95c4c9f-472e-4563-a686-15c2e842f661",
   "metadata": {},
   "outputs": [
    {
     "data": {
      "text/plain": [
       "2.0"
      ]
     },
     "execution_count": 12,
     "metadata": {},
     "output_type": "execute_result"
    }
   ],
   "source": [
    "new_w"
   ]
  },
  {
   "cell_type": "code",
   "execution_count": 13,
   "id": "4ce0d3fe-c3a9-4149-a4d9-e02378c9030b",
   "metadata": {},
   "outputs": [
    {
     "data": {
      "text/plain": [
       "-0.2"
      ]
     },
     "execution_count": 13,
     "metadata": {},
     "output_type": "execute_result"
    }
   ],
   "source": [
    "new_b"
   ]
  }
 ],
 "metadata": {
  "kernelspec": {
   "display_name": "Python 3 (ipykernel)",
   "language": "python",
   "name": "python3"
  },
  "language_info": {
   "codemirror_mode": {
    "name": "ipython",
    "version": 3
   },
   "file_extension": ".py",
   "mimetype": "text/x-python",
   "name": "python",
   "nbconvert_exporter": "python",
   "pygments_lexer": "ipython3",
   "version": "3.12.4"
  }
 },
 "nbformat": 4,
 "nbformat_minor": 5
}
