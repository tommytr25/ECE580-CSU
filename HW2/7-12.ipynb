{
 "cells": [
  {
   "cell_type": "markdown",
   "id": "0295c457-57bc-4c5a-b518-dca161a694df",
   "metadata": {},
   "source": [
    "Problem 7.  Consider the simple neuron in Stevens Fig. 6.2, with tanh() activation and initial parametrs w=2 and b=0 (note this is different from the textbook). Given the following three training data, (x,o) = { (20, 1), (10, 0), (0, -1) }, calculate the output of the network "
   ]
  },
  {
   "cell_type": "code",
   "execution_count": 1,
   "id": "38753712-1651-4255-bf23-b3f844e1b097",
   "metadata": {},
   "outputs": [],
   "source": [
    "%matplotlib inline\n",
    "import numpy as np\n",
    "import torch\n",
    "import torch.nn as nn\n",
    "import torch.optim as optim"
   ]
  },
  {
   "cell_type": "code",
   "execution_count": 2,
   "id": "4a3faa7f-2cec-49b5-86a4-63a1ecce8a44",
   "metadata": {},
   "outputs": [
    {
     "data": {
      "text/plain": [
       "tensor([[20.],\n",
       "        [10.],\n",
       "        [ 0.]], requires_grad=True)"
      ]
     },
     "execution_count": 2,
     "metadata": {},
     "output_type": "execute_result"
    }
   ],
   "source": [
    "x = [20.0, 10.0, 0.0]\n",
    "y = [1.0, 0.0, -1.0]\n",
    "x = torch.tensor(x).unsqueeze(1)\n",
    "y = torch.tensor(y).unsqueeze(1)\n",
    "x.requires_grad_(True)"
   ]
  },
  {
   "cell_type": "code",
   "execution_count": 3,
   "id": "c4e65f03-f82f-41f2-ae64-7653b65bb52c",
   "metadata": {},
   "outputs": [],
   "source": [
    "#network\n",
    "tanh_model = nn.Sequential(\n",
    "            nn.Linear(1, 1), # <1>\n",
    "            nn.Tanh())"
   ]
  },
  {
   "cell_type": "code",
   "execution_count": 4,
   "id": "737f7c61-d047-419a-b341-97a28d9e2b0c",
   "metadata": {},
   "outputs": [],
   "source": [
    "# Set the model parameters w = 2, b = 0\n",
    "with torch.no_grad():\n",
    "    tanh_model[0].weight.fill_(2.0)  # Set the weight w = 2\n",
    "    tanh_model[0].bias.fill_(0.0)    # Set the bias b = 0"
   ]
  },
  {
   "cell_type": "code",
   "execution_count": 5,
   "id": "48ef3f42-ed08-4bc0-ba97-b0b828fc2f5b",
   "metadata": {},
   "outputs": [
    {
     "data": {
      "text/plain": [
       "tensor([[1.],\n",
       "        [1.],\n",
       "        [0.]], grad_fn=<TanhBackward0>)"
      ]
     },
     "execution_count": 5,
     "metadata": {},
     "output_type": "execute_result"
    }
   ],
   "source": [
    "#output of network\n",
    "output = tanh_model(x)\n",
    "output"
   ]
  },
  {
   "cell_type": "markdown",
   "id": "c02b3d88-6fdc-4e46-8ed3-661ddbb01921",
   "metadata": {},
   "source": [
    "Problem 8: Now calculate the squared error for the above network and each of the three training data points. "
   ]
  },
  {
   "cell_type": "code",
   "execution_count": 6,
   "id": "11ed6b5b-d354-46ae-bfbf-207207c3219e",
   "metadata": {},
   "outputs": [],
   "source": [
    "def loss_fn(x, y):\n",
    "    squared_errors = (y - x)**2\n",
    "    return squared_errors"
   ]
  },
  {
   "cell_type": "code",
   "execution_count": 7,
   "id": "776c98d7-094f-4dc9-bf90-ce451a105546",
   "metadata": {},
   "outputs": [
    {
     "data": {
      "text/plain": [
       "tensor([[0.],\n",
       "        [1.],\n",
       "        [1.]], grad_fn=<PowBackward0>)"
      ]
     },
     "execution_count": 7,
     "metadata": {},
     "output_type": "execute_result"
    }
   ],
   "source": [
    "squared_errors = loss_fn(output,y)\n",
    "squared_errors"
   ]
  },
  {
   "cell_type": "code",
   "execution_count": 8,
   "id": "aa6cc903-1e65-47d4-a982-edd89d4060e9",
   "metadata": {},
   "outputs": [
    {
     "data": {
      "text/plain": [
       "tensor(2., grad_fn=<SumBackward0>)"
      ]
     },
     "execution_count": 8,
     "metadata": {},
     "output_type": "execute_result"
    }
   ],
   "source": [
    "sum_squared_errors = squared_errors.sum()\n",
    "sum_squared_errors"
   ]
  },
  {
   "cell_type": "code",
   "execution_count": 9,
   "id": "707a90a1-5695-4080-b10f-9abe552f0e0b",
   "metadata": {},
   "outputs": [],
   "source": [
    "optimizer = optim.SGD(\n",
    "    tanh_model.parameters(),\n",
    "    lr=0.1)"
   ]
  },
  {
   "cell_type": "markdown",
   "id": "959e0b62-5d64-43d3-902d-b0dcff784c8b",
   "metadata": {},
   "source": [
    "Problem 11: Calculate the gradients for each of these training data points."
   ]
  },
  {
   "cell_type": "code",
   "execution_count": 10,
   "id": "8bde6a2d-7e14-4633-9cf7-e4f0edb7f969",
   "metadata": {},
   "outputs": [],
   "source": [
    "optimizer.zero_grad()\n",
    "sum_squared_errors.backward()\n",
    "optimizer.step()"
   ]
  },
  {
   "cell_type": "code",
   "execution_count": 11,
   "id": "a3b0de49-0f2b-4a6b-8802-15b9fd6eb782",
   "metadata": {},
   "outputs": [
    {
     "name": "stdout",
     "output_type": "stream",
     "text": [
      "tensor([[0.],\n",
      "        [0.],\n",
      "        [4.]])\n"
     ]
    }
   ],
   "source": [
    "print(x.grad)"
   ]
  },
  {
   "cell_type": "markdown",
   "id": "e5ae47d1-7e37-4aae-a968-ee35adc036fb",
   "metadata": {},
   "source": [
    "Problem 12: Sum up the gradients for all 3 data points. Given a learning rate (step size) of 0.1, calculate the new parameters w and b."
   ]
  },
  {
   "cell_type": "code",
   "execution_count": 12,
   "id": "3e88d01a-c980-4510-aa5a-7a6fe529e8a4",
   "metadata": {},
   "outputs": [
    {
     "name": "stdout",
     "output_type": "stream",
     "text": [
      "Parameter containing:\n",
      "tensor([[2.]], requires_grad=True)\n"
     ]
    }
   ],
   "source": [
    "print(tanh_model[0].weight)"
   ]
  },
  {
   "cell_type": "code",
   "execution_count": 13,
   "id": "86ea252b-4e5f-465a-95af-3bded2f3ca1b",
   "metadata": {},
   "outputs": [
    {
     "name": "stdout",
     "output_type": "stream",
     "text": [
      "Parameter containing:\n",
      "tensor([-0.2000], requires_grad=True)\n"
     ]
    }
   ],
   "source": [
    "print(tanh_model[0].bias)"
   ]
  }
 ],
 "metadata": {
  "kernelspec": {
   "display_name": "Python 3 (ipykernel)",
   "language": "python",
   "name": "python3"
  },
  "language_info": {
   "codemirror_mode": {
    "name": "ipython",
    "version": 3
   },
   "file_extension": ".py",
   "mimetype": "text/x-python",
   "name": "python",
   "nbconvert_exporter": "python",
   "pygments_lexer": "ipython3",
   "version": "3.12.4"
  }
 },
 "nbformat": 4,
 "nbformat_minor": 5
}
